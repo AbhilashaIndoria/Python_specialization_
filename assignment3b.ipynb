{
 "cells": [
  {
   "cell_type": "markdown",
   "id": "e9fb1f6f",
   "metadata": {
    "deletable": false,
    "editable": false,
    "nbgrader": {
     "cell_type": "markdown",
     "checksum": "585787091e1e4cc5c29c4455cd741147",
     "grade": false,
     "grade_id": "cell-1147e966375cbcbd",
     "locked": true,
     "schema_version": 3,
     "solution": false,
     "task": false
    }
   },
   "source": [
    "# Final Project for Course 3 - OMDb and Dad Jokes Mashup"
   ]
  },
  {
   "cell_type": "markdown",
   "id": "a9403665",
   "metadata": {
    "deletable": false,
    "editable": false,
    "nbgrader": {
     "cell_type": "markdown",
     "checksum": "e244d094f19e1e6339b1a31e33c42927",
     "grade": false,
     "grade_id": "cell-e7072e501f48b813",
     "locked": true,
     "schema_version": 3,
     "solution": false,
     "task": false
    }
   },
   "source": [
    "This project will take you through the process of mashing up data from two different APIs.  \n",
    "\n",
    "[The OMDb API](https://www.omdbapi.com/) lets you provide a movie title as a query input and get back data about the movie, including scores from various review sites (Rotten Tomatoes, IMDb, etc.).\n",
    "\n",
    "[icanhazdadjokes.com](https://icanhazdadjoke.com/) returns random dad jokes containing a search string that you specify in your query.\n",
    "\n",
    "The end result of this project will be a function that takes in a movie title as input and produces a formatted text string that includes a couple dad jokes related to a word from the movie's plot.\n",
    "\n",
    "For example, here are a couple of sample outputs:\n",
    "\n",
    "---\n",
    "\n",
    "```\n",
    "Baby Mama\n",
    "Rotten Tomatoes rating: 63%\n",
    "A successful, single businesswoman who dreams of having a baby discovers she is infertile and hires a **working** class woman to be her unlikely surrogate.\n",
    "Speaking of **working**, that reminds me of some jokes.\n",
    "Hope they're better than the movie!\n",
    "\n",
    "Want to hear a joke about construction? Nah, I'm still **working** on it.\n",
    "Why doesn't the Chimney-Sweep call out sick from work? Because he's used to **working** with a flue.\n",
    "```\n",
    "\n",
    "---\n",
    "\n",
    "```\n",
    "Back to the Future\n",
    "Rotten Tomatoes rating: 93%\n",
    "Marty McFly, a 17-year-old high school student, is **accidentally** sent 30 years into the past in a time-traveling DeLorean invented by his close friend, the maverick scientist Doc Brown.\n",
    "Speaking of **accidentally**, that reminds me of some jokes.\n",
    "Hope they're as good as the movie!\n",
    "\n",
    "I **accidentally** drank a bottle of invisible ink. Now I’m in hospital, waiting to be seen.\n",
    "A butcher **accidentally** backed into his meat grinder and got a little behind in his work that day.\n",
    "```\n",
    "---\n",
    "\n",
    "\n",
    "To avoid problems with rate limits and site accessibility, we have provided a cache file with results for all the queries you need to make to both OMDb and icanhazdadjokes. Just use `requests_with_caching.get()` rather than `requests.get()`. If you're having trouble, you may not be formatting your queries properly, or you may not be asking for data that exists in our cache. We will try to provide as much information as we can to help guide you to form queries for which data exists in the cache.\n",
    "\n",
    "## ALERT: All Query Results Should Be Found in the Cache File\n",
    "If you ever run `requests_with_caching.get()` and it says either of the following, then **something was wrong** with your query:\n",
    "- new; adding to cache\n",
    "- found in page-specific cache\n"
   ]
  },
  {
   "cell_type": "code",
   "execution_count": 49,
   "id": "51f37026",
   "metadata": {
    "deletable": false,
    "editable": false,
    "nbgrader": {
     "cell_type": "code",
     "checksum": "b88b91054ebb0dbb23f30ec4ee1c25b2",
     "grade": false,
     "grade_id": "cell-dd0343668cbe5314",
     "locked": true,
     "schema_version": 3,
     "solution": false,
     "task": false
    },
    "tags": []
   },
   "outputs": [],
   "source": [
    "import requests_with_caching"
   ]
  },
  {
   "cell_type": "code",
   "execution_count": 50,
   "id": "1bec4abe",
   "metadata": {
    "deletable": false,
    "editable": false,
    "nbgrader": {
     "cell_type": "code",
     "checksum": "29443891fb93abc6599298219d89c488",
     "grade": false,
     "grade_id": "cell-66c3452dd2194fd7",
     "locked": true,
     "schema_version": 3,
     "solution": false,
     "task": false
    },
    "tags": []
   },
   "outputs": [],
   "source": [
    "apikey = \"abcd1234\"  # you may *optionally* replace this with your API key.\n",
    "# Note: you do *not* need an API key to complete this assignment. Every request should be in the cache\n",
    "requests_with_caching.clear_cache()\n",
    "# print(list(requests_with_caching.perm_cache().keys()))"
   ]
  },
  {
   "cell_type": "markdown",
   "id": "ae48646f",
   "metadata": {
    "deletable": false,
    "editable": false,
    "nbgrader": {
     "cell_type": "markdown",
     "checksum": "dcd5d51ff293b8a378aec8358a6ec951",
     "grade": false,
     "grade_id": "cell-a336eb2d66ca5ad2",
     "locked": true,
     "schema_version": 3,
     "solution": false,
     "task": false
    }
   },
   "source": [
    "# Fetching movie info from OMDb\n",
    "Your first task will be to fetch data from OMDb. The documentation for the API is at [https://www.omdbapi.com/](https://www.omdbapi.com/)\n",
    "\n",
    "Define a function called `get_movie_data`. It takes in one parameter which is a string that should represent the title of a movie you want to search. The function should return a dictionary with information about that movie.\n",
    "\n",
    "Again, use `requests_with_caching.get()`. If you were to use the live OMDP API, you would need to get an API key, as described in the documentation. However **you do not need an API key** to complete this assignment. For the queries on movies that are already in the permanent cache, you won’t need an API key. \n",
    "\n",
    "HINT: Be sure to include **only** keys `t` and `r` as query parameters in order to extract data from the cache. If any other parameters are included,  the function will not be able to recognize the data that you're attempting to pull from the cache.\n",
    "\n",
    "The following movie titles are in the cache:\n",
    "- Black Panther\n",
    "- Venom\n",
    "- Baby Mama\n",
    "- Sherlock Holmes\n",
    "- Return of the Jedi\n",
    "- Back to the Future"
   ]
  },
  {
   "cell_type": "code",
   "execution_count": 51,
   "id": "2534ddb1",
   "metadata": {
    "deletable": false,
    "nbgrader": {
     "cell_type": "code",
     "checksum": "aa1feac37201b0b26baa50033f106ae3",
     "grade": false,
     "grade_id": "cell-c15d5bfaf933109d",
     "locked": false,
     "schema_version": 3,
     "solution": true,
     "task": false
    },
    "tags": []
   },
   "outputs": [
    {
     "name": "stdout",
     "output_type": "stream",
     "text": [
      "found in permanent_cache\n",
      "http://www.omdbapi.com/?t=Black+Panther&r=json\n"
     ]
    }
   ],
   "source": [
    "# NOTE: the OMDb API uses http:// instead of https://\n",
    "def get_movie_data(name: str) -> dict:\n",
    "    \"\"\"Returns a dictionary of movie information from the OMDb API.\n",
    "\n",
    "    Parameters\n",
    "    ----------\n",
    "    name : str\n",
    "        The name of the movie to search for.\n",
    "\n",
    "    Returns\n",
    "    -------\n",
    "    dict\n",
    "        A dictionary of movie information.\n",
    "    \"\"\"\n",
    "    \n",
    "    baseurl = \"http://www.omdbapi.com/\"\n",
    "    params_d = {}\n",
    "    params_d[\"t\"] = r\"\"+name\n",
    "#    params_d[\"apikey\"] = apikey\n",
    "    params_d[\"r\"] = \"json\"\n",
    "   \n",
    "    omdb_resp = requests_with_caching.get(baseurl, params = params_d)\n",
    "    \n",
    "    print(omdb_resp.url)\n",
    "    return omdb_resp.json()\n",
    "\n",
    "result_omdb = get_movie_data(\"Black Panther\")\n",
    "\n",
    "\n",
    "\n"
   ]
  },
  {
   "cell_type": "code",
   "execution_count": 52,
   "id": "9925d59f",
   "metadata": {
    "tags": []
   },
   "outputs": [
    {
     "name": "stdout",
     "output_type": "stream",
     "text": [
      "found in permanent_cache\n",
      "http://www.omdbapi.com/?t=Black+Panther&r=json\n"
     ]
    }
   ],
   "source": [
    "results = get_movie_data(\"Black Panther\")\n",
    "\n",
    "assert type(results) == type({})\n",
    "assert results[\"Year\"] == \"2018\"\n",
    "\n",
    "# some other invocations that we use in the automated tests; uncomment these if you are getting errors and want better error messages\n",
    "# print(get_movie_data(\"Venom\"))\n",
    "# print(get_movie_data(\"Baby Mama\"))"
   ]
  },
  {
   "cell_type": "code",
   "execution_count": null,
   "id": "c00368f0",
   "metadata": {
    "deletable": false,
    "editable": false,
    "nbgrader": {
     "cell_type": "code",
     "checksum": "2f682315afcb66205be1378ef202de10",
     "grade": true,
     "grade_id": "cell-2bf30385787a27c6",
     "locked": true,
     "points": 1,
     "schema_version": 3,
     "solution": false,
     "task": false
    }
   },
   "outputs": [],
   "source": []
  },
  {
   "cell_type": "code",
   "execution_count": 53,
   "id": "d87b00c2-1bc8-47ab-a48a-d16390e5d3cc",
   "metadata": {
    "tags": []
   },
   "outputs": [
    {
     "name": "stdout",
     "output_type": "stream",
     "text": [
      "Title: Black Panther\n",
      "Year: 2018\n",
      "Rated: PG-13\n",
      "Released: 16 Feb 2018\n",
      "Runtime: 134 min\n",
      "Genre: Action, Adventure, Sci-Fi\n",
      "Director: Ryan Coogler\n",
      "Writer: Ryan Coogler, Joe Robert Cole, Stan Lee\n",
      "Actors: Chadwick Boseman, Michael B. Jordan, Lupita Nyong'o\n",
      "Plot: T'Challa, heir to the hidden but advanced kingdom of Wakanda, must step forward to lead his people into a new future and must confront a challenger from his country's past.\n",
      "Language: English, Swahili, Nama, Xhosa, Korean\n",
      "Country: United States\n",
      "Awards: Won 3 Oscars. 123 wins & 289 nominations total\n",
      "Poster: https://m.media-amazon.com/images/M/MV5BMTg1MTY2MjYzNV5BMl5BanBnXkFtZTgwMTc4NTMwNDI@._V1_SX300.jpg\n",
      "Ratings: [{'Source': 'Internet Movie Database', 'Value': '7.3/10'}, {'Source': 'Rotten Tomatoes', 'Value': '96%'}, {'Source': 'Metacritic', 'Value': '88/100'}]\n",
      "Metascore: 88\n",
      "imdbRating: 7.3\n",
      "imdbVotes: 837,583\n",
      "imdbID: tt1825683\n",
      "Type: movie\n",
      "DVD: 02 May 2018\n",
      "BoxOffice: $700,426,566\n",
      "Production: N/A\n",
      "Website: N/A\n",
      "Response: True\n"
     ]
    }
   ],
   "source": [
    "for k, val in results.items():\n",
    "    print(f\"{k}: {val}\")"
   ]
  },
  {
   "cell_type": "code",
   "execution_count": 54,
   "id": "e3af785e-983a-4197-82a6-99ce1031699f",
   "metadata": {
    "tags": []
   },
   "outputs": [
    {
     "name": "stdout",
     "output_type": "stream",
     "text": [
      "<class 'str'>\n"
     ]
    }
   ],
   "source": [
    "print(type(results['Plot']))"
   ]
  },
  {
   "cell_type": "code",
   "execution_count": 55,
   "id": "3454e7d1-ed68-4e66-ba67-699431919992",
   "metadata": {
    "tags": []
   },
   "outputs": [
    {
     "name": "stdout",
     "output_type": "stream",
     "text": [
      "<class 'int'>\n"
     ]
    }
   ],
   "source": [
    "chk = results[\"Ratings\"][1]['Value'].split(\"%\")\n",
    "o = int(chk[0])\n",
    "print(type(o))"
   ]
  },
  {
   "cell_type": "markdown",
   "id": "6986c72e",
   "metadata": {
    "deletable": false,
    "editable": false,
    "nbgrader": {
     "cell_type": "markdown",
     "checksum": "8572e7031319e9d487e7d1685a35d280",
     "grade": false,
     "grade_id": "cell-e4dcbc9b7b289e34",
     "locked": true,
     "schema_version": 3,
     "solution": false,
     "task": false
    }
   },
   "source": [
    "## Extract the Rotten Tomatoes Rating for a Movie\n",
    "Next, you will write a function that extracts the Rotten Tomatoes rating for a movie from the results dictionary as an *integer*. If the movie does not have a Rotten Tomatoes rating, return `-1`.\n",
    "\n",
    "Fill in the template for the function below"
   ]
  },
  {
   "cell_type": "code",
   "execution_count": 56,
   "id": "1a849514",
   "metadata": {
    "deletable": false,
    "nbgrader": {
     "cell_type": "code",
     "checksum": "cf03c727c61eddef7e1d3941e4cb5fa2",
     "grade": false,
     "grade_id": "cell-db2e3b5784fb6f51",
     "locked": false,
     "schema_version": 3,
     "solution": true,
     "task": false
    },
    "tags": []
   },
   "outputs": [
    {
     "name": "stdout",
     "output_type": "stream",
     "text": [
      "found in permanent_cache\n",
      "http://www.omdbapi.com/?t=Black+Panther&r=json\n"
     ]
    }
   ],
   "source": [
    "def rt_rating(movie_data: dict) -> int:\n",
    "    \"\"\"Returns the Rotten Tomatoes rating from a dictionary of movie information.\n",
    "\n",
    "    Parameters\n",
    "    ----------\n",
    "    movie_data : dict\n",
    "        A dictionary of movie information.\n",
    "\n",
    "    Returns\n",
    "    -------\n",
    "    int\n",
    "        The Rotten Tomatoes rating. For example, 75% would be returned as the integer 75.\n",
    "    \"\"\"\n",
    "    rating = movie_data[\"Ratings\"][1]['Value'].split(\"%\")\n",
    "    return int(rating[0])\n",
    "\n",
    "\n",
    "\n",
    "\n",
    "# We suggest that you write an assert statement to check the output of your function for the movie Black Panther. The autograder will check results for some other movies.\n",
    "results = get_movie_data(\"Black Panther\")\n",
    "assert rt_rating(results) == 96"
   ]
  },
  {
   "cell_type": "code",
   "execution_count": null,
   "id": "0e2ba4bf",
   "metadata": {
    "deletable": false,
    "editable": false,
    "nbgrader": {
     "cell_type": "code",
     "checksum": "5f8b58157f5d094d939ba31f5e710c1f",
     "grade": true,
     "grade_id": "cell-8da8bffba2e45c97",
     "locked": true,
     "points": 1,
     "schema_version": 3,
     "solution": false,
     "task": false
    }
   },
   "outputs": [],
   "source": []
  },
  {
   "cell_type": "markdown",
   "id": "d0b8db14",
   "metadata": {
    "deletable": false,
    "editable": false,
    "nbgrader": {
     "cell_type": "markdown",
     "checksum": "9c677799e45c6120ae13ba21a32a6d31",
     "grade": false,
     "grade_id": "cell-87365ca5b1f3b6fa",
     "locked": true,
     "schema_version": 3,
     "solution": false,
     "task": false
    }
   },
   "source": [
    "# Fetching Jokes\n",
    "Now you will use another API to fetch a couple of dad jokes related to a movie's plot.\n",
    "\n",
    "You will do this in two stages. First you'll implement a helper function that calls the API to get jokes, asking for jokes related to a single word.\n",
    "\n",
    "Then you'll use that helper function, calling it with the longest words from the plot summary until it finds one that there are jokes for.\n"
   ]
  },
  {
   "cell_type": "markdown",
   "id": "556e8f6b",
   "metadata": {
    "deletable": false,
    "editable": false,
    "nbgrader": {
     "cell_type": "markdown",
     "checksum": "f3de65021b34a715773eed589438b0e5",
     "grade": false,
     "grade_id": "cell-0cae38ac12dc8f35",
     "locked": true,
     "schema_version": 3,
     "solution": false,
     "task": false
    }
   },
   "source": [
    "## Search for Jokes Containing a Word\n",
    "To search for dad jokes, you'll be using the API for icanhazdadjokes. The documentation for the API is at [https://icanhazdadjoke.com/api](https://icanhazdadjoke.com/api)\n",
    "\n",
    "Define a function called `get_joke_data`. It takes in one parameter which is a string. The function should return a dictionary with information about **up to two** jokes that contain that string.\n",
    "\n",
    "Again, use `requests_with_caching.get()`. All the query results you need are already in the permanent cache.\n",
    "\n",
    "- Note 1: Be sure to include **only** keys `term` and `limit` as query parameters in order to extract data from the cache. If any other parameters are included, the function will not be able to recognize the data that you're attempting to pull from the cache.\n",
    "- Note 2: Use the `limit` parameter in the icanhazdadjokes API to limit it to two results (instead of slicing)"
   ]
  },
  {
   "cell_type": "code",
   "execution_count": 57,
   "id": "d70a3185-ae5d-4b14-93e3-48932d5664c9",
   "metadata": {
    "tags": []
   },
   "outputs": [],
   "source": [
    "import json"
   ]
  },
  {
   "cell_type": "code",
   "execution_count": 58,
   "id": "712c5a81",
   "metadata": {
    "deletable": false,
    "nbgrader": {
     "cell_type": "code",
     "checksum": "fdf916e24b04fb44aec10e01a62b58e0",
     "grade": false,
     "grade_id": "cell-16f7339f35226c3c",
     "locked": false,
     "schema_version": 3,
     "solution": true,
     "task": false
    },
    "tags": []
   },
   "outputs": [],
   "source": [
    "# no template is provided for this function. You have to define it from scratch\n",
    "\n",
    "def get_joke_data(word: str) -> dict:\n",
    "    \"\"\"Returns a dictionary of movie information from the OMDb API.\n",
    "\n",
    "    Parameters\n",
    "    ----------\n",
    "    name : str\n",
    "        The name of the movie to search for.\n",
    "\n",
    "    Returns\n",
    "    -------\n",
    "    dict\n",
    "        A dictionary of movie information.\n",
    "    \"\"\"\n",
    "    \n",
    "    baseurl = \"https://icanhazdadjoke.com/search\"\n",
    "    params_d = {}\n",
    "    params_d[\"term\"] = r\"\"+word\n",
    "#    params_d[\"apikey\"] = apikey\n",
    "    params_d[\"limit\"] = 2\n",
    "   \n",
    "    dadjoke_resp = requests_with_caching.get(baseurl, params = params_d)\n",
    "    \n",
    "    print(dadjoke_resp.url)\n",
    "    \n",
    "    return dadjoke_resp.json()\n",
    "\n",
    "\n"
   ]
  },
  {
   "cell_type": "code",
   "execution_count": 134,
   "id": "c57826ee-0807-4a0c-92b2-e08a87870cff",
   "metadata": {
    "tags": []
   },
   "outputs": [
    {
     "name": "stdout",
     "output_type": "stream",
     "text": [
      "found in permanent_cache\n",
      "https://icanhazdadjoke.com/search?term=challenger&limit=2\n"
     ]
    }
   ],
   "source": [
    "res = get_joke_data(\"challenger\")"
   ]
  },
  {
   "cell_type": "code",
   "execution_count": 135,
   "id": "f6bc7fd2-867b-4b7f-a2b1-530b5cf569e0",
   "metadata": {
    "tags": []
   },
   "outputs": [
    {
     "data": {
      "text/plain": [
       "{'current_page': 1,\n",
       " 'limit': 2,\n",
       " 'next_page': 1,\n",
       " 'previous_page': 1,\n",
       " 'results': [],\n",
       " 'search_term': 'challenger',\n",
       " 'status': 200,\n",
       " 'total_jokes': 0,\n",
       " 'total_pages': 1}"
      ]
     },
     "execution_count": 135,
     "metadata": {},
     "output_type": "execute_result"
    }
   ],
   "source": [
    "res"
   ]
  },
  {
   "cell_type": "code",
   "execution_count": 95,
   "id": "855de1d1-86e6-424d-8db4-a3f88f12a9b9",
   "metadata": {
    "tags": []
   },
   "outputs": [
    {
     "name": "stdout",
     "output_type": "stream",
     "text": [
      "['Sometimes I tuck my knees into my chest and lean forward.  That’s just how I roll.', 'Why do scuba divers fall backwards into the water? Because if they fell forwards they’d still be in the boat.']\n"
     ]
    }
   ],
   "source": [
    "joke_chk = []\n",
    "for item in  res[\"results\"]:\n",
    "    joke_chk.append(item['joke'])\n",
    "print(joke_chk)\n",
    "    "
   ]
  },
  {
   "cell_type": "code",
   "execution_count": 86,
   "id": "edfe4b3c-1256-495f-98c8-80bf66310d21",
   "metadata": {
    "tags": []
   },
   "outputs": [
    {
     "name": "stdout",
     "output_type": "stream",
     "text": [
      "Key id: value 0189hNRf2g, <class 'str'>\n",
      "Key joke: value I'm tired of following my dreams. I'm just going to ask them where they are going and meet up with them later., <class 'str'>\n"
     ]
    }
   ],
   "source": [
    "for k,v in res[\"results\"][0].items():\n",
    "    print(f\"Key {k}: value {v}, {type(v)}\")"
   ]
  },
  {
   "cell_type": "code",
   "execution_count": 87,
   "id": "74e59bae-fd14-49b8-9bd0-f03aefc3c90c",
   "metadata": {
    "tags": []
   },
   "outputs": [
    {
     "data": {
      "text/plain": [
       "\"I'm tired of following my dreams. I'm just going to ask them where they are going and meet up with them later.\""
      ]
     },
     "execution_count": 87,
     "metadata": {},
     "output_type": "execute_result"
    }
   ],
   "source": [
    "res[\"results\"][0][\"joke\"]"
   ]
  },
  {
   "cell_type": "code",
   "execution_count": 62,
   "id": "c1175c04-f7f1-488d-9e38-15a001a26db4",
   "metadata": {
    "tags": []
   },
   "outputs": [
    {
     "data": {
      "text/plain": [
       "9"
      ]
     },
     "execution_count": 62,
     "metadata": {},
     "output_type": "execute_result"
    }
   ],
   "source": [
    "len(res)"
   ]
  },
  {
   "cell_type": "code",
   "execution_count": 63,
   "id": "b6261abf",
   "metadata": {
    "tags": []
   },
   "outputs": [
    {
     "name": "stdout",
     "output_type": "stream",
     "text": [
      "found in permanent_cache\n",
      "https://icanhazdadjoke.com/search?term=magic&limit=2\n",
      "found in permanent_cache\n",
      "https://icanhazdadjoke.com/search?term=magic&limit=2\n"
     ]
    }
   ],
   "source": [
    "assert (\n",
    "    len(get_joke_data(\"magic\")[\"results\"]) == 2\n",
    "), \"The correct number of jokes for 'magic' should be 2\"\n",
    "assert (\n",
    "    get_joke_data(\"magic\")[\"results\"][0][\"joke\"]\n",
    "    == \"What do you call a magician who has lost their magic? Ian.\"\n",
    ")"
   ]
  },
  {
   "cell_type": "code",
   "execution_count": null,
   "id": "1916c4aa",
   "metadata": {
    "deletable": false,
    "editable": false,
    "nbgrader": {
     "cell_type": "code",
     "checksum": "b6aee20b674691a06438d48f6087cb8c",
     "grade": true,
     "grade_id": "cell-4b8dd4186c96707e",
     "locked": true,
     "points": 1,
     "schema_version": 3,
     "solution": false,
     "task": false
    }
   },
   "outputs": [],
   "source": []
  },
  {
   "cell_type": "markdown",
   "id": "759b4e97",
   "metadata": {
    "deletable": false,
    "editable": false,
    "nbgrader": {
     "cell_type": "markdown",
     "checksum": "23050db2a7fcddefc0fde03e68c37c79",
     "grade": false,
     "grade_id": "cell-cea0b353b92f96ca",
     "locked": true,
     "schema_version": 3,
     "solution": false,
     "task": false
    }
   },
   "source": [
    "## Get Jokes for a Long Word from the Plot Description\n",
    "\n",
    "Now you'll define a function called `get_jokes`. It will extract the longest word from the plot and try to find jokes for it. If there aren't any, it will proceed to the next longest word, and so on, until it finds a word for which there are jokes. If there is more than one word of the same length, try words that are earlier in the description first (which `sorted` does by default, since it's \"stable\" and will only move things around the minimum necessary).\n",
    "\n",
    "We provide code that removes punctuation from the words in `plot` and assigns the result to the variable `words`. Your code should extend this by sorting `words` from longest to shortest and use the sorted list (and the `get_joke_data` function that you defined above) to find the longest word with associated jokes. If there are no words with associated jokes, your function should return the tuple `(None, None)`. If there is a word with associated jokes, your function should return a tuple with (1) the longest word with a joke and (2) a list of jokes associated with that word (as a list of strings)."
   ]
  },
  {
   "cell_type": "code",
   "execution_count": 158,
   "id": "8ee07e18",
   "metadata": {
    "deletable": false,
    "nbgrader": {
     "cell_type": "code",
     "checksum": "2160868817885e85c9bd634034d991d5",
     "grade": false,
     "grade_id": "cell-a2bb2ab6bc6d8d49",
     "locked": false,
     "schema_version": 3,
     "solution": true,
     "task": false
    },
    "tags": []
   },
   "outputs": [],
   "source": [
    "def get_jokes(plot: str, verbosity=0) -> tuple[str, list[str]]:\n",
    "    \"\"\"Returns a tuple containing the longest word for which jokes were found\n",
    "    and the joke itself. Break ties for longest word using the order in `plot`.\n",
    "    Make sure that you strip punctuation from the word before you search for a joke.\n",
    "\n",
    "    Parameters\n",
    "    ----------\n",
    "    plot : str\n",
    "        The plot of a movie.\n",
    "\n",
    "    verbosity : int (optional)\n",
    "        If 0, no output is printed. If 1, some output is printed about which words were tried.\n",
    "        Defaults to 0.\n",
    "\n",
    "    Returns\n",
    "    -------\n",
    "    tuple[str, list[str]]\n",
    "        A tuple containing the word that was used to search for a joke and a list of two joke strings.\n",
    "    \"\"\"\n",
    "\n",
    "    words = plot.split()  # split into separate words\n",
    "    words = [w.strip(\",.!;:\") for w in words]  # remove punctuation for each word\n",
    "    words = sorted(words, key=lambda x: (-len(x),x))\n",
    "    \n",
    "    for word in words:\n",
    "        \n",
    "        r= get_joke_data(word)\n",
    "        if len(r[\"results\"])>0:\n",
    "            print(word)\n",
    "            joke_ = []\n",
    "            for item in  r[\"results\"]:\n",
    "                joke_.append(item['joke'])\n",
    "            return (word, joke_)\n",
    "        \n",
    "#    return words\n",
    "    \n",
    "    return (None, None)\n",
    "    # WRITE YOUR CODE HERE\n",
    "\n",
    "\n"
   ]
  },
  {
   "cell_type": "code",
   "execution_count": 137,
   "id": "67b67930-5632-4aaa-b86f-bcb748c0e251",
   "metadata": {
    "tags": []
   },
   "outputs": [],
   "source": [
    "plot = \"T'Challa, heir to the hidden but advanced kingdom of Wakanda, must step forward to lead his people into a new future and must confront a challenger from his country's past.\""
   ]
  },
  {
   "cell_type": "code",
   "execution_count": 138,
   "id": "84343a62-8b9a-4eca-8eff-8243714eedf5",
   "metadata": {
    "tags": []
   },
   "outputs": [
    {
     "name": "stdout",
     "output_type": "stream",
     "text": [
      "found in permanent_cache\n",
      "https://icanhazdadjoke.com/search?term=challenger&limit=2\n",
      "found in permanent_cache\n",
      "https://icanhazdadjoke.com/search?term=country%27s&limit=2\n",
      "found in permanent_cache\n",
      "https://icanhazdadjoke.com/search?term=T%27Challa&limit=2\n",
      "found in permanent_cache\n",
      "https://icanhazdadjoke.com/search?term=advanced&limit=2\n",
      "found in permanent_cache\n",
      "https://icanhazdadjoke.com/search?term=confront&limit=2\n",
      "found in permanent_cache\n",
      "https://icanhazdadjoke.com/search?term=Wakanda&limit=2\n",
      "found in permanent_cache\n",
      "https://icanhazdadjoke.com/search?term=forward&limit=2\n",
      "forward\n"
     ]
    }
   ],
   "source": [
    "#plot = \"I had dreams of a cat.\"\n",
    "result = get_jokes(plot, 1)"
   ]
  },
  {
   "cell_type": "code",
   "execution_count": 139,
   "id": "8bf47561-6038-4828-a96b-ec4138f996da",
   "metadata": {
    "tags": []
   },
   "outputs": [],
   "source": [
    "#results[1]"
   ]
  },
  {
   "cell_type": "code",
   "execution_count": 140,
   "id": "cdf85a0a-1f09-4fa9-9127-ebbfc959e7f1",
   "metadata": {
    "tags": []
   },
   "outputs": [
    {
     "name": "stdout",
     "output_type": "stream",
     "text": [
      "found in permanent_cache\n",
      "https://icanhazdadjoke.com/search?term=challenger&limit=2\n",
      "found in permanent_cache\n",
      "https://icanhazdadjoke.com/search?term=country%27s&limit=2\n",
      "found in permanent_cache\n",
      "https://icanhazdadjoke.com/search?term=T%27Challa&limit=2\n",
      "found in permanent_cache\n",
      "https://icanhazdadjoke.com/search?term=advanced&limit=2\n",
      "found in permanent_cache\n",
      "https://icanhazdadjoke.com/search?term=confront&limit=2\n",
      "found in permanent_cache\n",
      "https://icanhazdadjoke.com/search?term=Wakanda&limit=2\n",
      "found in permanent_cache\n",
      "https://icanhazdadjoke.com/search?term=forward&limit=2\n",
      "forward\n"
     ]
    }
   ],
   "source": [
    "x,y = get_jokes(plot, 1)"
   ]
  },
  {
   "cell_type": "code",
   "execution_count": 141,
   "id": "0015d8a6-c13a-49b4-b9a5-ed09db994262",
   "metadata": {
    "tags": []
   },
   "outputs": [
    {
     "name": "stdout",
     "output_type": "stream",
     "text": [
      "forward\n",
      "['Sometimes I tuck my knees into my chest and lean forward.  That’s just how I roll.', 'Why do scuba divers fall backwards into the water? Because if they fell forwards they’d still be in the boat.']\n"
     ]
    }
   ],
   "source": [
    "print(x)\n",
    "print(y)"
   ]
  },
  {
   "cell_type": "code",
   "execution_count": 142,
   "id": "c71b10df",
   "metadata": {
    "tags": []
   },
   "outputs": [
    {
     "name": "stdout",
     "output_type": "stream",
     "text": [
      "found in permanent_cache\n",
      "https://icanhazdadjoke.com/search?term=dreams&limit=2\n",
      "dreams\n",
      "('dreams', [\"I'm tired of following my dreams. I'm just going to ask them where they are going and meet up with them later.\"])\n"
     ]
    }
   ],
   "source": [
    "# Test case 1: Plot with a word that has jokes\n",
    "plot = \"I had dreams of a cat.\"\n",
    "result = get_jokes(plot, 1)\n",
    "print(result)\n",
    "assert result[0] == \"dreams\"\n",
    "assert (\n",
    "    result[1][0]\n",
    "    == \"I'm tired of following my dreams. I'm just going to ask them where they are going and meet up with them later.\"\n",
    ")"
   ]
  },
  {
   "cell_type": "code",
   "execution_count": null,
   "id": "3252b170",
   "metadata": {
    "deletable": false,
    "editable": false,
    "nbgrader": {
     "cell_type": "code",
     "checksum": "5f8b65d03411e5b035cd929e55824bcc",
     "grade": true,
     "grade_id": "cell-1780db7471384246",
     "locked": true,
     "points": 1,
     "schema_version": 3,
     "solution": false,
     "task": false
    }
   },
   "outputs": [],
   "source": []
  },
  {
   "cell_type": "markdown",
   "id": "ad6296a4",
   "metadata": {
    "deletable": false,
    "editable": false,
    "nbgrader": {
     "cell_type": "markdown",
     "checksum": "2010291a6da6ffc3e1cf40ffb3523032",
     "grade": false,
     "grade_id": "cell-08448895ec34e0ae",
     "locked": true,
     "schema_version": 3,
     "solution": false,
     "task": false
    }
   },
   "source": [
    "BONUS CHALLENGE (ungraded). If we had specified that ties should be broken by taking words in the alphabetic order rather than later, how could you have done that? Try writing a test and then implementing it!"
   ]
  },
  {
   "cell_type": "markdown",
   "id": "02640c96",
   "metadata": {
    "deletable": false,
    "editable": false,
    "nbgrader": {
     "cell_type": "markdown",
     "checksum": "661b55e4bb6510f0e6c72d206dbaed4b",
     "grade": false,
     "grade_id": "cell-9a2cbd7609271655",
     "locked": true,
     "schema_version": 3,
     "solution": false,
     "task": false
    }
   },
   "source": [
    "## Put it All Together\n",
    "\n",
    "Now put it all together to make the full app. Define a function, `haha_me`. It takes a movie name as input and verbosity and returns a text string that is meant to entertain the reader.\n",
    "\n",
    "We have provided a helper function, `highlight`, that highlights a string inside a larger string by wrapping it in asterisks (`*`). Try invoking it a few times to make sure you understand what it does, then figure out how it should be used based on the sample outputs in the assert statements.\n",
    "\n",
    "If the movie is not found in the OMDb API (using `get_movie_data`), return `\"No movie found: \"` followed by the movie title.\n",
    "\n",
    "If the movie is found, but there are no jokes (`get_jokes` returned `(None, None)`), return `\"I've got no jokes about this movie. It's too serious!\"`.\n",
    "\n",
    "If the movie and jokes are found, your function should return a string with each of the following on separate lines:\n",
    "- The name of the movie\n",
    "- `\"Rotten Tomatoes rating: XX%\"` (replacing `\"XX\"` with the actual Rotten Tomatoes rating)\n",
    "- The plot of the movie with the joke keyword highlighted (using the provided `highlight` function)\n",
    "- `\"Speaking of **YY**, that reminds me of some jokes.\"` (replacing `\"YY\"` with the joke keyword)\n",
    "- A different phrase about the jokes, depending on the Rotten Tomatoes rating:\n",
    "    - No Rotten Tomates Rating (meaning the rating is `-1`): `\"Hope you like them!\"`\n",
    "    - Rotten Tomatoes Rating below 70%: `\"Hope they're better than the movie!\"`\n",
    "    - Rotten Tomates 70%+: `\"Hope they're as good as the movie!\"`\n",
    "- *(an empty line)*\n",
    "- The list of jokes, separated by a newline (using `\"\\n\".join(...)`)\n",
    "\n",
    "For example, for Venom:\n",
    "```\n",
    "Venom\n",
    "Rotten Tomatoes rating: 30%\n",
    "A failed reporter is bonded to an alien entity, one of many symbiotes who have invaded **Earth**. But the being takes a liking to **Earth** and decides to protect it.\n",
    "Speaking of **Earth**, that reminds me of some jokes.\n",
    "Hope they're better than the movie!\n",
    "\n",
    "Astronomers got tired watching the moon go around the **Earth** for 24 hours. They decided to call it a day.\n",
    "The rotation of **Earth** really makes my day.\n",
    "```"
   ]
  },
  {
   "cell_type": "code",
   "execution_count": 143,
   "id": "e2c410a3",
   "metadata": {
    "deletable": false,
    "editable": false,
    "nbgrader": {
     "cell_type": "code",
     "checksum": "04c8bdab1a330d480493aeb322dd44dd",
     "grade": false,
     "grade_id": "cell-a7d5b8af6ee3fa80",
     "locked": true,
     "schema_version": 3,
     "solution": false,
     "task": false
    },
    "tags": []
   },
   "outputs": [],
   "source": [
    "def highlight(word: str, sentence: str) -> str:\n",
    "    \"\"\"\n",
    "    Highlights a specific word in a sentence by surrounding it with asterisks (**).\n",
    "    The highlighting is case-insensitive.\n",
    "\n",
    "    Args:\n",
    "        word (str): The word to be highlighted.\n",
    "        sentence (str): The sentence in which the word should be highlighted.\n",
    "\n",
    "    Returns:\n",
    "        str: The sentence with the specified word highlighted.\n",
    "    \"\"\"\n",
    "    import re\n",
    "\n",
    "    # Escape special characters in the word to treat it as a literal string\n",
    "    # Use re.sub() to replace the word with the highlighted version\n",
    "    # Use re.IGNORECASE flag to perform case-insensitive replacement\n",
    "    return re.sub(re.escape(word), f\"**{word}**\", sentence, flags=re.IGNORECASE)"
   ]
  },
  {
   "cell_type": "markdown",
   "id": "3b6ecf05-65c3-421d-bc1d-625b9c21a55c",
   "metadata": {},
   "source": [
    "## Put it All Together\n",
    "\n",
    "Now put it all together to make the full app. Define a function, `haha_me`. It takes a movie name as input and verbosity and returns a text string that is meant to entertain the reader.\n",
    "\n",
    "We have provided a helper function, `highlight`, that highlights a string inside a larger string by wrapping it in asterisks (`*`). Try invoking it a few times to make sure you understand what it does, then figure out how it should be used based on the sample outputs in the assert statements.\n",
    "\n",
    "If the movie is not found in the OMDb API (using `get_movie_data`), return `\"No movie found: \"` followed by the movie title.\n",
    "\n",
    "If the movie is found, but there are no jokes (`get_jokes` returned `(None, None)`), return `\"I've got no jokes about this movie. It's too serious!\"`.\n",
    "\n",
    "If the movie and jokes are found, your function should return a string with each of the following on separate lines:\n",
    "- The name of the movie\n",
    "- `\"Rotten Tomatoes rating: XX%\"` (replacing `\"XX\"` with the actual Rotten Tomatoes rating)\n",
    "- The plot of the movie with the joke keyword highlighted (using the provided `highlight` function)\n",
    "- `\"Speaking of **YY**, that reminds me of some jokes.\"` (replacing `\"YY\"` with the joke keyword)\n",
    "- A different phrase about the jokes, depending on the Rotten Tomatoes rating:\n",
    "    - No Rotten Tomates Rating (meaning the rating is `-1`): `\"Hope you like them!\"`\n",
    "    - Rotten Tomatoes Rating below 70%: `\"Hope they're better than the movie!\"`\n",
    "    - Rotten Tomates 70%+: `\"Hope they're as good as the movie!\"`\n",
    "- *(an empty line)*\n",
    "- The list of jokes, separated by a newline (using `\"\\n\".join(...)`)\n",
    "\n",
    "For example, for Venom:\n",
    "```\n",
    "Venom\n",
    "Rotten Tomatoes rating: 30%\n",
    "A failed reporter is bonded to an alien entity, one of many symbiotes who have invaded **Earth**. But the being takes a liking to **Earth** and decides to protect it.\n",
    "Speaking of **Earth**, that reminds me of some jokes.\n",
    "Hope they're better than the movie!\n",
    "\n",
    "Astronomers got tired watching the moon go around the **Earth** for 24 hours. They decided to call it a day.\n",
    "The rotation of **Earth** really makes my day.\n",
    "```"
   ]
  },
  {
   "cell_type": "code",
   "execution_count": 144,
   "id": "3474e6b5-f966-4124-b6fa-49155f6e0e34",
   "metadata": {
    "tags": []
   },
   "outputs": [
    {
     "name": "stdout",
     "output_type": "stream",
     "text": [
      "rating is the 90 '\n",
      "' given by 1000 people\n"
     ]
    }
   ],
   "source": [
    "x =90\n",
    "y = 1000\n",
    "chk_msg = f\"rating is the {x} '\\n' given by {y} people\"\n",
    "print(chk_msg)"
   ]
  },
  {
   "cell_type": "code",
   "execution_count": 145,
   "id": "2ffbad76-6f3c-445e-b563-fcbad5efcf38",
   "metadata": {
    "tags": []
   },
   "outputs": [
    {
     "name": "stdout",
     "output_type": "stream",
     "text": [
      "hi-----\n",
      "___there\n"
     ]
    }
   ],
   "source": [
    "lst1 = [\"hi-----\", \"___there\"]\n",
    "print(\"\\n\".join(lst1))\n"
   ]
  },
  {
   "cell_type": "code",
   "execution_count": 146,
   "id": "2e3c3482-4bf5-42b2-8343-d3ee9f49be47",
   "metadata": {
    "tags": []
   },
   "outputs": [
    {
     "name": "stdout",
     "output_type": "stream",
     "text": [
      "found in permanent_cache\n",
      "http://www.omdbapi.com/?t=Black+Panther&r=json\n"
     ]
    }
   ],
   "source": [
    "\n",
    "movie_result = get_movie_data(\"Black Panther\")"
   ]
  },
  {
   "cell_type": "code",
   "execution_count": 147,
   "id": "db829dcc-9543-4efa-90e5-f8e0156cf3c5",
   "metadata": {
    "tags": []
   },
   "outputs": [
    {
     "name": "stdout",
     "output_type": "stream",
     "text": [
      "T'Challa, heir to the hidden but advanced kingdom of Wakanda, must step forward to lead his people into a new future and must confront a challenger from his country's past.\n"
     ]
    }
   ],
   "source": [
    "plot = movie_result['Plot']\n",
    "print(plot)"
   ]
  },
  {
   "cell_type": "code",
   "execution_count": 148,
   "id": "60406023-565f-43d6-a43c-551f6722acd9",
   "metadata": {
    "tags": []
   },
   "outputs": [
    {
     "name": "stdout",
     "output_type": "stream",
     "text": [
      "found in permanent_cache\n",
      "https://icanhazdadjoke.com/search?term=challenger&limit=2\n",
      "found in permanent_cache\n",
      "https://icanhazdadjoke.com/search?term=country%27s&limit=2\n",
      "found in permanent_cache\n",
      "https://icanhazdadjoke.com/search?term=T%27Challa&limit=2\n",
      "found in permanent_cache\n",
      "https://icanhazdadjoke.com/search?term=advanced&limit=2\n",
      "found in permanent_cache\n",
      "https://icanhazdadjoke.com/search?term=confront&limit=2\n",
      "found in permanent_cache\n",
      "https://icanhazdadjoke.com/search?term=Wakanda&limit=2\n",
      "found in permanent_cache\n",
      "https://icanhazdadjoke.com/search?term=forward&limit=2\n",
      "forward\n"
     ]
    }
   ],
   "source": [
    "word, jokes = get_jokes(plot)"
   ]
  },
  {
   "cell_type": "code",
   "execution_count": 149,
   "id": "5c351135-c4cf-414e-92ce-70475fa92a38",
   "metadata": {
    "tags": []
   },
   "outputs": [
    {
     "data": {
      "text/plain": [
       "['Sometimes I tuck my knees into my chest and lean forward.  That’s just how I roll.',\n",
       " 'Why do scuba divers fall backwards into the water? Because if they fell forwards they’d still be in the boat.']"
      ]
     },
     "execution_count": 149,
     "metadata": {},
     "output_type": "execute_result"
    }
   ],
   "source": [
    "jokes"
   ]
  },
  {
   "cell_type": "code",
   "execution_count": 155,
   "id": "d60305fe",
   "metadata": {
    "deletable": false,
    "nbgrader": {
     "cell_type": "code",
     "checksum": "da5e0c67561492923fff32805c586bd9",
     "grade": false,
     "grade_id": "cell-cdca3b42f4c176ff",
     "locked": false,
     "schema_version": 3,
     "solution": true,
     "task": false
    },
    "tags": []
   },
   "outputs": [],
   "source": [
    "def haha_me(movie_title: str, verbosity=0) -> str:\n",
    "    \"\"\"Returns a string containing a movie title, the Rotten Tomatoes rating, a plot summary,\n",
    "    and two jokes about the movie. If no jokes are found, a message is returned instead.\n",
    "\n",
    "    Parameters\n",
    "    ----------\n",
    "    movie_title : str\n",
    "        The title of a movie.\n",
    "\n",
    "    verbosity : int (optional)\n",
    "        If 0, no output is printed. If 1, some output is printed about which plot words were tried.\n",
    "        Defaults to 0.\n",
    "    \"\"\"\n",
    "    movie_result = get_movie_data(movie_title)\n",
    "    if len(movie_result)==0:\n",
    "        message = f\" No movie found: {movie_title}\"\n",
    "        return message\n",
    "    \n",
    "    plot = movie_result['Plot']\n",
    "    word, jokes = get_jokes(plot)\n",
    "    \n",
    "    if len(jokes)==0:\n",
    "        message = \"I've got no jokes about this movie. It's too serious!\"\n",
    "        return message\n",
    "    \n",
    "    rating = rt_rating(movie_result)\n",
    "    highlighted_msg = highlight(word, plot)\n",
    "    if rating>=70:\n",
    "        phrase = \"Hope they're as good as the movie!\"\n",
    "    elif rating<70:\n",
    "        phrase = \"Hope they're better than the movie!\"\n",
    "    else:\n",
    "        phrase = \"Hope you like them!\"\n",
    "        \n",
    "    msg1 = movie_title\n",
    "    msg2 = \"Rotten Tomatoes rating: \"+str(rating)+\"%\"\n",
    "    msg3 = highlighted_msg\n",
    "    msg4 = \"Speaking of **\"+word+\"**, that reminds me of some jokes.\"\n",
    "    msg5 = phrase\n",
    "    msg6 = \"\\n\"\n",
    "    msg7 = \"\\n\".join(jokes)\n",
    "    msg7 = highlight(word, msg7)\n",
    "    final = msg1+\"\\n\"+msg2+\"\\n\"+msg3+\"\\n\"+msg4+\"\\n\"+msg5+\"\\n\"+msg6+msg7\n",
    "    return final\n",
    "    \n",
    "        \n",
    "        \n",
    "    \n",
    "\n",
    "\n"
   ]
  },
  {
   "cell_type": "code",
   "execution_count": 156,
   "id": "ff194d02-0004-4914-b655-13f7452d5134",
   "metadata": {
    "tags": []
   },
   "outputs": [
    {
     "name": "stdout",
     "output_type": "stream",
     "text": [
      "found in permanent_cache\n",
      "http://www.omdbapi.com/?t=Black+Panther&r=json\n",
      "found in permanent_cache\n",
      "https://icanhazdadjoke.com/search?term=challenger&limit=2\n",
      "found in permanent_cache\n",
      "https://icanhazdadjoke.com/search?term=country%27s&limit=2\n",
      "found in permanent_cache\n",
      "https://icanhazdadjoke.com/search?term=T%27Challa&limit=2\n",
      "found in permanent_cache\n",
      "https://icanhazdadjoke.com/search?term=advanced&limit=2\n",
      "found in permanent_cache\n",
      "https://icanhazdadjoke.com/search?term=confront&limit=2\n",
      "found in permanent_cache\n",
      "https://icanhazdadjoke.com/search?term=Wakanda&limit=2\n",
      "found in permanent_cache\n",
      "https://icanhazdadjoke.com/search?term=forward&limit=2\n",
      "forward\n",
      "Black Panther\n",
      "Rotten Tomatoes rating: 96%\n",
      "T'Challa, heir to the hidden but advanced kingdom of Wakanda, must step **forward** to lead his people into a new future and must confront a challenger from his country's past.\n",
      "Speaking of **forward**, that reminds me of some jokes.\n",
      "Hope they're as good as the movie!\n",
      "\n",
      "Sometimes I tuck my knees into my chest and lean **forward**.  That’s just how I roll.\n",
      "Why do scuba divers fall backwards into the water? Because if they fell **forward**s they’d still be in the boat.\n"
     ]
    }
   ],
   "source": [
    "print(haha_me(\"Black Panther\"))"
   ]
  },
  {
   "cell_type": "code",
   "execution_count": 157,
   "id": "b3e5f862",
   "metadata": {
    "tags": []
   },
   "outputs": [
    {
     "name": "stdout",
     "output_type": "stream",
     "text": [
      "found in permanent_cache\n",
      "http://www.omdbapi.com/?t=Black+Panther&r=json\n",
      "found in permanent_cache\n",
      "https://icanhazdadjoke.com/search?term=challenger&limit=2\n",
      "found in permanent_cache\n",
      "https://icanhazdadjoke.com/search?term=country%27s&limit=2\n",
      "found in permanent_cache\n",
      "https://icanhazdadjoke.com/search?term=T%27Challa&limit=2\n",
      "found in permanent_cache\n",
      "https://icanhazdadjoke.com/search?term=advanced&limit=2\n",
      "found in permanent_cache\n",
      "https://icanhazdadjoke.com/search?term=confront&limit=2\n",
      "found in permanent_cache\n",
      "https://icanhazdadjoke.com/search?term=Wakanda&limit=2\n",
      "found in permanent_cache\n",
      "https://icanhazdadjoke.com/search?term=forward&limit=2\n",
      "forward\n"
     ]
    }
   ],
   "source": [
    "assert (\n",
    "    haha_me(\"Black Panther\")\n",
    "    == \"\"\"Black Panther\n",
    "Rotten Tomatoes rating: 96%\n",
    "T'Challa, heir to the hidden but advanced kingdom of Wakanda, must step **forward** to lead his people into a new future and must confront a challenger from his country's past.\n",
    "Speaking of **forward**, that reminds me of some jokes.\n",
    "Hope they're as good as the movie!\n",
    "\n",
    "Sometimes I tuck my knees into my chest and lean **forward**.  That’s just how I roll.\n",
    "Why do scuba divers fall backwards into the water? Because if they fell **forward**s they’d still be in the boat.\"\"\"\n",
    ")"
   ]
  },
  {
   "cell_type": "code",
   "execution_count": null,
   "id": "3836b9b7",
   "metadata": {
    "deletable": false,
    "editable": false,
    "nbgrader": {
     "cell_type": "code",
     "checksum": "272762d08058da37a64bc0da2d2970cc",
     "grade": true,
     "grade_id": "cell-ad473a0e417360cf",
     "locked": true,
     "points": 1,
     "schema_version": 3,
     "solution": false,
     "task": false
    }
   },
   "outputs": [],
   "source": []
  },
  {
   "cell_type": "code",
   "execution_count": null,
   "id": "96d8e381-b446-46ff-acce-5d75b99acdf1",
   "metadata": {},
   "outputs": [],
   "source": []
  }
 ],
 "metadata": {
  "kernelspec": {
   "display_name": "Python 3.11 (ipykernel)",
   "language": "python",
   "name": "python3"
  },
  "language_info": {
   "codemirror_mode": {
    "name": "ipython",
    "version": 3
   },
   "file_extension": ".py",
   "mimetype": "text/x-python",
   "name": "python",
   "nbconvert_exporter": "python",
   "pygments_lexer": "ipython3",
   "version": "3.11.9"
  }
 },
 "nbformat": 4,
 "nbformat_minor": 5
}
